{
 "cells": [
  {
   "cell_type": "code",
   "execution_count": 4,
   "metadata": {},
   "outputs": [],
   "source": [
    "import matplotlib.pyplot as plt\n",
    "import numpy as np\n",
    "from tva.situation import Situation\n",
    "import copy"
   ]
  },
  {
   "cell_type": "code",
   "execution_count": 2,
   "metadata": {},
   "outputs": [],
   "source": [
    "def run_voting_schemes(situation, strategy_name):\n",
    "    \"\"\"\n",
    "    For a given situation and strategy label, run the voting schemes and print:\n",
    "      1. Non-strategic voting outcome (O)\n",
    "      2. For each voter i, his/her happiness level (H_i)\n",
    "      3. Overall voter happiness (H)\n",
    "      4. For each voter i, the set S_i of strategic voting options\n",
    "         (each option printed as a tuple: (tilde_v_ij, tilde_O, tilde_H_i, H_i, tilde_H, H))\n",
    "      5. Overall risk of strategic voting.\n",
    "    \"\"\"\n",
    "    print(\"======== {} Strategy Results ========\".format(strategy_name))\n",
    "    schemes = situation.schemes\n",
    "    strategies = situation.strategies\n",
    "\n",
    "    # Helper to print a scheme's results.\n",
    "    def print_scheme_output(scheme_name, winner, happiness, overall_happiness):\n",
    "        print(\"\\n--- {} Voting ---\".format(scheme_name))\n",
    "        print(\"Non-strategic voting outcome (O):\", winner)\n",
    "        print(\"For each voter i, happiness level (H_i):\", happiness)\n",
    "        print(\"Overall voter happiness (H):\", overall_happiness)\n",
    "\n",
    "    # Plurality Voting:\n",
    "    winner_plurality = schemes.plurality_voting()\n",
    "    happiness_plurality = schemes.plurality_happiness(winner_plurality)\n",
    "    overall_happiness_plurality = schemes.overall_happiness(happiness_plurality)\n",
    "    print_scheme_output(\"Plurality\", winner_plurality, happiness_plurality, overall_happiness_plurality)\n",
    "\n",
    "    # Anti-Plurality Voting:\n",
    "    winner_anti_plurality = schemes.anti_plurality_voting()\n",
    "    happiness_anti_plurality = schemes.anti_plurality_happiness(winner_anti_plurality)\n",
    "    overall_happiness_anti_plurality = schemes.overall_happiness(happiness_anti_plurality)\n",
    "    print_scheme_output(\"Anti-Plurality\", winner_anti_plurality, happiness_anti_plurality,\n",
    "                        overall_happiness_anti_plurality)\n",
    "\n",
    "    # Voting-for-Two Voting:\n",
    "    winner_voting_for_two = schemes.voting_for_two()\n",
    "    happiness_voting_for_two = schemes.voting_for_two_happiness(winner_voting_for_two)\n",
    "    overall_happiness_voting_for_two = schemes.overall_happiness(happiness_voting_for_two)\n",
    "    print_scheme_output(\"Voting-for-Two\", winner_voting_for_two, happiness_voting_for_two,\n",
    "                        overall_happiness_voting_for_two)\n",
    "\n",
    "    # Borda Voting:\n",
    "    winner_borda = schemes.borda_voting()\n",
    "    happiness_borda = schemes.borda_happiness(winner_borda)\n",
    "    overall_happiness_borda = schemes.overall_happiness(happiness_borda)\n",
    "    print_scheme_output(\"Borda\", winner_borda, happiness_borda, overall_happiness_borda)\n",
    "\n",
    "    # Get strategic options dynamically for all schemes.\n",
    "    strategic_options = strategies.get_strategic_options(schemes)\n",
    "    print(\"\\n--- Strategic Voting Options (S_i) ---\")\n",
    "    for i, voter_options in enumerate(strategic_options):\n",
    "        voter_num = i + 1\n",
    "        print(\"\\nFor voter {}: S_{} = \".format(voter_num, voter_num))\n",
    "        if voter_options:\n",
    "            for hsceme, option in voter_options.items():\n",
    "                print(\"  Scheme:\", scheme)\n",
    "                print(\"    s_ij = (\")\n",
    "                print(\"         tilde_v_ij (modified_preferences):\", option[\"modified_preferences\"])\n",
    "                print(\"         tilde_O (voting_outcome):\", option[\"voting_outcome\"])\n",
    "                print(\"         tilde_H_i (modified_voter_happiness):\", option[\"modified_voter_happiness\"])\n",
    "                print(\"         H_i (original_voter_happiness):\", option[\"original_voter_happiness\"])\n",
    "                print(\"         tilde_H (modified_overall_happiness):\", option[\"modified_overall_happiness\"])\n",
    "                print(\"         H (original_overall_happiness):\", option[\"original_overall_happiness\"])\n",
    "                print(\"    )\")\n",
    "        else:\n",
    "            print(\"    S_{} is empty.\".format(voter_num))\n",
    "\n",
    "    num_voters = len(situation.preference_matrix)\n",
    "    strat_voting_risk = strategies.compute_strategic_risk(strategic_options, num_voters)\n",
    "    print(\"\\nOverall risk of strategic voting:\", strat_voting_risk)"
   ]
  },
  {
   "cell_type": "code",
   "execution_count": 7,
   "metadata": {},
   "outputs": [
    {
     "data": {
      "text/plain": [
       "[['C', 'E', 'D', 'B', 'A'],\n",
       " ['D', 'E', 'A', 'B', 'C'],\n",
       " ['E', 'C', 'A', 'B', 'D'],\n",
       " ['B', 'C', 'A', 'D', 'E'],\n",
       " ['D', 'C', 'E', 'B', 'A']]"
      ]
     },
     "execution_count": 7,
     "metadata": {},
     "output_type": "execute_result"
    }
   ],
   "source": [
    "situation.preference_matrix"
   ]
  },
  {
   "cell_type": "code",
   "execution_count": 8,
   "metadata": {},
   "outputs": [
    {
     "data": {
      "text/plain": [
       "[['E', 'C', 'D', 'B', 'A'],\n",
       " ['E', 'D', 'A', 'B', 'C'],\n",
       " ['C', 'E', 'A', 'B', 'D'],\n",
       " ['C', 'B', 'A', 'D', 'E'],\n",
       " ['C', 'D', 'E', 'B', 'A']]"
      ]
     },
     "execution_count": 8,
     "metadata": {},
     "output_type": "execute_result"
    }
   ],
   "source": [
    "situation_compromising.preference_matrix"
   ]
  },
  {
   "cell_type": "code",
   "execution_count": 5,
   "metadata": {},
   "outputs": [
    {
     "name": "stdout",
     "output_type": "stream",
     "text": [
      "=== Initial Voting Situation ===\n",
      "Preference matrix:\n",
      "         V0 V1 V2 V3 V4\n",
      "Rank 1   C  D  E  B  D\n",
      "Rank 2   E  E  C  C  C\n",
      "Rank 3   D  A  A  A  E\n",
      "Rank 4   B  B  B  D  B\n",
      "Rank 5   A  C  D  E  A\n",
      "\n",
      "=== After Strategic (Compromising) Adjustment ===\n",
      "Preference matrix:\n",
      "         V0 V1 V2 V3 V4\n",
      "Rank 1   E  E  C  C  C\n",
      "Rank 2   C  D  E  B  D\n",
      "Rank 3   D  A  A  A  E\n",
      "Rank 4   B  B  B  D  B\n",
      "Rank 5   A  C  D  E  A\n"
     ]
    }
   ],
   "source": [
    "# Create the initial voting situation.\n",
    "situation = Situation()\n",
    "print(\"=== Initial Voting Situation ===\")\n",
    "situation.print_preference_matrix()\n",
    "\n",
    "# Create deep copies for different strategies.\n",
    "situation_compromising = copy.deepcopy(situation)\n",
    "situation_burying = copy.deepcopy(situation)\n",
    "\n",
    "# Compromising Strategy:\n",
    "situation_compromising.strategies.compromising()\n",
    "print(\"\\n=== After Strategic (Compromising) Adjustment ===\")\n",
    "situation_compromising.print_preference_matrix()\n",
    "# run_voting_schemes(situation_compromising, \"Compromising\")\n",
    "\n",
    "# # Burying Strategy:\n",
    "# situation_burying.strategies.burying()\n",
    "# print(\"\\n=== After Strategic (Burying) Adjustment ===\")\n",
    "# situation_burying.print_preference_matrix()\n",
    "# run_voting_schemes(situation_burying, \"Burying\")\n"
   ]
  },
  {
   "cell_type": "code",
   "execution_count": 6,
   "metadata": {},
   "outputs": [
    {
     "data": {
      "image/png": "[encoded data removed]",
      "text/plain": [
       "<Figure size 640x480 with 1 Axes>"
      ]
     },
     "metadata": {},
     "output_type": "display_data"
    }
   ],
   "source": [
    "# Plot function 1/log2(x) for x in [1, 15]\n",
    "\n",
    "x = np.linspace(2, 15, 100)\n",
    "y = 1/np.log2(x)\n",
    "plt.scatter(x, y)\n",
    "plt.xlabel('x')\n",
    "plt.ylabel('1/log2(x)')\n",
    "plt.title('Plot of 1/log2(x) for x in [1, 15]')\n",
    "plt.show()\n"
   ]
  },
  {
   "cell_type": "code",
   "execution_count": null,
   "metadata": {},
   "outputs": [],
   "source": [
    "1 / log2(r + 1)"
   ]
  }
 ],
 "metadata": {
  "kernelspec": {
   "display_name": ".venv",
   "language": "python",
   "name": "python3"
  },
  "language_info": {
   "codemirror_mode": {
    "name": "ipython",
    "version": 3
   },
   "file_extension": ".py",
   "mimetype": "text/x-python",
   "name": "python",
   "nbconvert_exporter": "python",
   "pygments_lexer": "ipython3",
   "version": "3.10.7"
  }
 },
 "nbformat": 4,
 "nbformat_minor": 2
}
