{
 "cells": [
  {
   "cell_type": "code",
   "execution_count": 1,
   "metadata": {},
   "outputs": [],
   "source": [
    "from random import Random\n",
    "import numpy as np\n",
    "import pandas as pd\n",
    "from tva.situation import Situation\n",
    "from tva.strategies import Strategies\n",
    "import copy\n",
    "from tva.schemes import Schemes, VotingScheme\n",
    "from tva.enums import VotingScheme, Happiness\n",
    "from tva.voter import Voter"
   ]
  },
  {
   "cell_type": "code",
   "execution_count": 2,
   "metadata": {},
   "outputs": [
    {
     "data": {
      "text/plain": [
       "Voter 0: ['A', 'C', 'D', 'B']\n",
       "Voter 1: ['D', 'A', 'B', 'C']\n",
       "Voter 2: ['C', 'A', 'D', 'B']\n",
       "Voter 3: ['A', 'B', 'C', 'D']"
      ]
     },
     "metadata": {},
     "output_type": "display_data"
    },
    {
     "name": "stdout",
     "output_type": "stream",
     "text": [
      "Anti plurality: A {'A': 4, 'C': 3, 'D': 3, 'B': 2} \n",
      "Two voting: A {'A': 4, 'C': 2, 'D': 1, 'B': 1} \n",
      "Borda: A {'A': 10, 'C': 6, 'D': 5, 'B': 3}\n"
     ]
    }
   ],
   "source": [
    "# Create the voting situation\n",
    "situation = Situation(num_voters=4, num_candidates=4, seed=42)\n",
    "display(situation)\n",
    "\n",
    "# Apply the voting scheme to the situation\n",
    "schemes = Schemes()\n",
    "voting_scheme = VotingScheme.BORDA\n",
    "schemes.print_results(situation, verbose=True)\n",
    "\n"
   ]
  },
  {
   "cell_type": "code",
   "execution_count": 8,
   "metadata": {},
   "outputs": [
    {
     "data": {
      "text/plain": [
       "Voter 0: ['A', 'B', 'C', 'D']\n",
       "Voter 1: ['C', 'A', 'B', 'D']\n",
       "Voter 2: ['D', 'B', 'C', 'A']\n",
       "Voter 3: ['D', 'B', 'A', 'C']"
      ]
     },
     "metadata": {},
     "output_type": "display_data"
    },
    {
     "name": "stdout",
     "output_type": "stream",
     "text": [
      "Borda: B {'A': 6, 'B': 7, 'C': 5, 'D': 6}\n",
      "['A', 'B', 'C', 'D']\n",
      "Borda: B {'A': 6, 'B': 7, 'C': 5, 'D': 6}\n",
      "Swapping B and C\n",
      "['A', 'C', 'B', 'D']\n",
      "Borda: A {'A': 6, 'C': 6, 'B': 6, 'D': 6}\n",
      "Found a winning strategy!\n",
      "Swapping B and D\n",
      "['A', 'C', 'D', 'B']\n",
      "Borda: D {'A': 6, 'C': 6, 'D': 7, 'B': 5}\n",
      "Winner changed\n",
      "Swapping D and B\n",
      "['A', 'C', 'B', 'D']\n",
      "Loop detected\n",
      "Left recursion\n",
      "Left recursion\n",
      "None\n"
     ]
    }
   ],
   "source": [
    "situation = Situation(num_voters=4, num_candidates=4)\n",
    "situation.voters[0].preferences = [\"A\",\"B\",\"C\",\"D\"]\n",
    "situation.voters[1].preferences = [\"C\",\"A\",\"B\",\"D\"]\n",
    "situation.voters[2].preferences = [\"D\",\"B\",\"C\",\"A\"]\n",
    "situation.voters[3].preferences = [\"D\",\"B\",\"A\",\"C\"]\n",
    "display(situation)\n",
    "\n",
    "current_winner, scores = schemes.apply_voting_scheme(VotingScheme.BORDA, situation.voters, return_scores=True)\n",
    "print(\"Borda:\", current_winner, scores)\n",
    "\n",
    "# situation.voters[0].preferences = [\"B\",\"C\",\"A\",\"D\"]\n",
    "# current_winner, scores = schemes.apply_voting_scheme(VotingScheme.BORDA, situation.voters, return_scores=True)\n",
    "# print(\"Borda:\", current_winner, scores)\n",
    "\n",
    "strategies = Strategies()\n",
    "a = strategies.bury(situation, 0, VotingScheme.BORDA, Happiness.LINEAR, verbose=True, exhaustive_search=True)\n",
    "print(a)"
   ]
  },
  {
   "cell_type": "code",
   "execution_count": null,
   "metadata": {},
   "outputs": [
    {
     "name": "stdout",
     "output_type": "stream",
     "text": [
      "['A', 'D', 'C', 'B']\n",
      "Borda: D {'A': 4, 'D': 10, 'C': 5, 'B': 5}\n",
      "Sorted scores: [('D', 10), ('C', 5), ('B', 5), ('A', 4)]\n",
      "Candidates: ['C', 'B', 'A']\n",
      "Swapping A and A\n",
      "['A', 'D', 'C', 'B']\n",
      "Borda: D {'A': 4, 'D': 10, 'C': 5, 'B': 5}\n"
     ]
    }
   ],
   "source": [
    "import copy\n",
    "\n",
    "def get_indexes_to_iterate(preferences:list[str], scores:dict[str,int]):\n",
    "    # Given a list of preferences and the scores of those preferences, return a list of indexes of candidates to the left of the current winner\n",
    "    # The current winner is the candidate with the highest score\n",
    "    # Return the indexes of preferences sorted by score in descending order\n",
    "    # If the current winner is at index 0, return an empty list\n",
    "    current_winner = max(scores, key=scores.get) # type: ignore\n",
    "    current_winner_index = preferences.index(current_winner)\n",
    "\n",
    "    sorted_scores = sorted(scores.items(), key=lambda x: x[1], reverse=True)\n",
    "    print(\"Sorted scores:\", sorted_scores)\n",
    "    candidates = [x[0] for x in sorted_scores[1:]]\n",
    "    print(\"Candidates:\", candidates)\n",
    "\n",
    "    indexes_to_try = []\n",
    "    for i in candidates:\n",
    "        candidate_index = preferences.index(i)\n",
    "        if candidate_index < current_winner_index:\n",
    "            indexes_to_try.append(candidate_index)\n",
    "    return indexes_to_try\n",
    "\n",
    "def swap(situation:Situation, voter_id:int, candidate1_index:int, candidate2_index:int, verbose=False):\n",
    "    if verbose:\n",
    "        print(f\"Swapping {situation.voters[voter_id].preferences[candidate1_index]} and {situation.voters[voter_id].preferences[candidate2_index]}\")\n",
    "    situation.voters[voter_id].preferences[candidate1_index], situation.voters[voter_id].preferences[candidate2_index] = situation.voters[voter_id].preferences[candidate2_index], situation.voters[voter_id].preferences[candidate1_index]\n",
    "\n",
    "def compromise(situation:Situation, voter_index:int, voting_scheme:VotingScheme, happiness_func:Happiness, exhaustive_search=False, verbose=False) -> None | list[str]:\n",
    "    # Copy the situation\n",
    "    new_situation = copy.deepcopy(situation)\n",
    "    original_voter = new_situation.voters[voter_index]\n",
    "    original_preferences = new_situation.voters[voter_index].preferences\n",
    "    # If the original winner is the first preference of the voter, return False\n",
    "    original_winner, scores = schemes.apply_voting_scheme(voting_scheme, new_situation.voters, return_scores=True)\n",
    "    original_winner_index = original_preferences.index(original_winner) # type: ignore\n",
    "    original_winner_happiness = original_voter.calculate_happiness(original_winner, happiness_func)\n",
    "\n",
    "    if verbose:\n",
    "        print(original_preferences)\n",
    "        print(\"Borda:\", original_winner, scores)\n",
    "\n",
    "    if original_winner_index == 0:\n",
    "        return None\n",
    "    \n",
    "    all_winning_preferences = []\n",
    "    indexes_to_iterate = get_indexes_to_iterate(original_preferences, scores) # type: ignore\n",
    "    # Loop over all candidates to the left of the original winner sorted by score\n",
    "    for i in indexes_to_iterate:\n",
    "        # Move that candidate to the first position\n",
    "        swap(new_situation, voter_index, i, 0, verbose=verbose)\n",
    "        # Check if the winner changed and if the voter is happier\n",
    "        new_winner, scores = schemes.apply_voting_scheme(voting_scheme, new_situation.voters, return_scores=True)\n",
    "        new_winner_happiness = original_voter.calculate_happiness(new_winner, happiness_func)\n",
    "\n",
    "        if verbose:\n",
    "            print(new_situation.voters[voter_index].preferences)\n",
    "            print(\"Borda:\", new_winner, scores)\n",
    "\n",
    "        if new_winner != original_winner and new_winner_happiness > original_winner_happiness:\n",
    "            if exhaustive_search:\n",
    "                all_winning_preferences.append(new_situation.voters[voter_index].preferences)\n",
    "                print(\"Found a winning preference\")\n",
    "            else:\n",
    "                print(\"Found a winning preference\")\n",
    "                return new_situation.voters[voter_index].preferences\n",
    "\n",
    "    if all_winning_preferences == []:\n",
    "        return None\n",
    "    return all_winning_preferences\n",
    "\n",
    "compromise(situation, 0, VotingScheme.BORDA, Happiness.LINEAR, verbose=True, exhaustive_search=True)"
   ]
  },
  {
   "cell_type": "markdown",
   "metadata": {},
   "source": [
    "Create 1000 situations and check for what fraction of them a strategy is good"
   ]
  },
  {
   "cell_type": "markdown",
   "metadata": {},
   "source": [
    "We do experiments for each voting scheme separately.<br>\n",
    "TODO: We need to save, what type of strategy has won this time?"
   ]
  },
  {
   "cell_type": "code",
   "execution_count": 1,
   "metadata": {},
   "outputs": [
    {
     "ename": "NameError",
     "evalue": "name 'Strategies' is not defined",
     "output_type": "error",
     "traceback": [
      "\u001b[1;31m---------------------------------------------------------------------------\u001b[0m",
      "\u001b[1;31mNameError\u001b[0m                                 Traceback (most recent call last)",
      "Cell \u001b[1;32mIn[1], line 1\u001b[0m\n\u001b[1;32m----> 1\u001b[0m strategies \u001b[38;5;241m=\u001b[39m \u001b[43mStrategies\u001b[49m()\n\u001b[0;32m      2\u001b[0m voting_scheme \u001b[38;5;241m=\u001b[39m VotingScheme\u001b[38;5;241m.\u001b[39mBORDA\n\u001b[0;32m      3\u001b[0m situation \u001b[38;5;241m=\u001b[39m Situation(num_voters\u001b[38;5;241m=\u001b[39m\u001b[38;5;241m5\u001b[39m, num_candidates\u001b[38;5;241m=\u001b[39m\u001b[38;5;241m4\u001b[39m)\n",
      "\u001b[1;31mNameError\u001b[0m: name 'Strategies' is not defined"
     ]
    }
   ],
   "source": [
    "strategies = Strategies()\n",
    "voting_scheme = VotingScheme.BORDA\n",
    "situation = Situation(num_voters=5, num_candidates=4)\n",
    "situation"
   ]
  },
  {
   "cell_type": "code",
   "execution_count": 33,
   "metadata": {},
   "outputs": [
    {
     "name": "stdout",
     "output_type": "stream",
     "text": [
      "0.877\n"
     ]
    }
   ],
   "source": [
    "strategies = Strategies()\n",
    "voting_scheme = VotingScheme.BORDA\n",
    "nr_repetitions = 1000\n",
    "num_voters = 4\n",
    "\n",
    "strategy_counter = 0\n",
    "for i in range(nr_repetitions):\n",
    "    situation = Situation(num_voters=num_voters, num_candidates=4)\n",
    "    # Check if at least one voter has a good strategy\n",
    "    for voter_index in range(num_voters):\n",
    "        if strategies.is_any_strategy_good(situation, voter_index, voting_scheme):\n",
    "            strategy_counter += 1\n",
    "            break\n",
    "        \n",
    "print(strategy_counter/nr_repetitions)"
   ]
  },
  {
   "cell_type": "markdown",
   "metadata": {},
   "source": [
    "Plurality cannot be affected by strategic voting because that would require a voter to vote for a candidate they prefer less than their favorite candidate."
   ]
  }
 ],
 "metadata": {
  "kernelspec": {
   "display_name": ".venv",
   "language": "python",
   "name": "python3"
  },
  "language_info": {
   "codemirror_mode": {
    "name": "ipython",
    "version": 3
   },
   "file_extension": ".py",
   "mimetype": "text/x-python",
   "name": "python",
   "nbconvert_exporter": "python",
   "pygments_lexer": "ipython3",
   "version": "3.10.7"
  }
 },
 "nbformat": 4,
 "nbformat_minor": 2
}
