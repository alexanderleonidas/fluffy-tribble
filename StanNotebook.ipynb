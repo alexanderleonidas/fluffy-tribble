{
 "cells": [
  {
   "cell_type": "code",
   "execution_count": 1,
   "metadata": {},
   "outputs": [],
   "source": [
    "from random import Random\n",
    "import numpy as np\n",
    "import pandas as pd\n",
    "from tva.situation import Situation\n",
    "from tva.strategies import Strategies\n",
    "import copy\n",
    "from tva.schemes import Schemes, VotingScheme\n",
    "from tva.enums import VotingScheme, Happiness\n",
    "from tva.voter import Voter"
   ]
  },
  {
   "cell_type": "code",
   "execution_count": 2,
   "metadata": {},
   "outputs": [
    {
     "data": {
      "text/plain": [
       "Voter 0: ['A', 'C', 'D', 'B']\n",
       "Voter 1: ['D', 'A', 'B', 'C']\n",
       "Voter 2: ['C', 'A', 'D', 'B']\n",
       "Voter 3: ['A', 'B', 'C', 'D']"
      ]
     },
     "metadata": {},
     "output_type": "display_data"
    },
    {
     "name": "stdout",
     "output_type": "stream",
     "text": [
      "Anti plurality: A {'A': 4, 'C': 3, 'D': 3, 'B': 2} \n",
      "Two voting: A {'A': 4, 'C': 2, 'D': 1, 'B': 1} \n",
      "Borda: A {'A': 10, 'C': 6, 'D': 5, 'B': 3}\n"
     ]
    }
   ],
   "source": [
    "# Create the voting situation\n",
    "situation = Situation(num_voters=4, num_candidates=4, seed=42)\n",
    "display(situation)\n",
    "\n",
    "# Apply the voting scheme to the situation\n",
    "schemes = Schemes()\n",
    "voting_scheme = VotingScheme.BORDA\n",
    "schemes.print_results(situation, verbose=True)\n",
    "\n"
   ]
  },
  {
   "cell_type": "code",
   "execution_count": 11,
   "metadata": {},
   "outputs": [
    {
     "data": {
      "text/plain": [
       "Voter 0: ['A', 'B', 'C', 'D']\n",
       "Voter 1: ['C', 'B', 'A', 'D']\n",
       "Voter 2: ['B', 'A', 'D', 'C']\n",
       "Voter 3: ['C', 'B', 'A', 'D']"
      ]
     },
     "metadata": {},
     "output_type": "display_data"
    },
    {
     "name": "stdout",
     "output_type": "stream",
     "text": [
      "Borda: B {'A': 7, 'B': 9, 'C': 7, 'D': 1}\n"
     ]
    }
   ],
   "source": [
    "situation = Situation(num_voters=4, num_candidates=4)\n",
    "situation.voters[0].preferences = [\"A\",\"B\",\"C\",\"D\"]\n",
    "situation.voters[1].preferences = [\"C\",\"B\",\"A\",\"D\"]\n",
    "situation.voters[2].preferences = [\"B\",\"A\",\"D\",\"C\"]\n",
    "situation.voters[3].preferences = [\"C\",\"B\",\"A\",\"D\"]\n",
    "display(situation)\n",
    "\n",
    "current_winner, scores = schemes.apply_voting_scheme(VotingScheme.BORDA, situation.voters, return_scores=True)\n",
    "print(\"Borda:\", current_winner, scores)"
   ]
  },
  {
   "cell_type": "code",
   "execution_count": 15,
   "metadata": {},
   "outputs": [
    {
     "data": {
      "text/plain": [
       "False"
      ]
     },
     "execution_count": 15,
     "metadata": {},
     "output_type": "execute_result"
    }
   ],
   "source": [
    "def bullet_vote(situation: Situation, voter_index: int, voting_scheme:VotingScheme, happiness_func:Happiness) -> bool:\n",
    "    \"\"\"voting for just one alternative, despite having the option to vote for several\"\"\"\n",
    "    voter: Voter = situation.voters[voter_index]\n",
    "    # Save the original happiness of this voter\n",
    "    original_winner:str = schemes.apply_voting_scheme(voting_scheme, situation.voters) # type: ignore\n",
    "    original_happiness = voter.calculate_happiness(original_winner, happiness_func)\n",
    "    voters: list[Voter] =  copy.deepcopy(situation.voters)\n",
    "    \n",
    "    bullet_preferences:list[list[str]] = get_bullet_preferences(voter.preferences)\n",
    "    for pref in bullet_preferences:\n",
    "        # Find the winner of the voting scheme with the new preference\n",
    "        voters[voter_index].preferences = pref\n",
    "        # print(\"Permutation:\", original_preferences)\n",
    "        new_winner:str = schemes.apply_voting_scheme(voting_scheme, voters) # type: ignore\n",
    "        # Calculate the happiness of the voter with the new preference\n",
    "        happiness = voter.calculate_happiness(new_winner, happiness_func)\n",
    "        if happiness > original_happiness:\n",
    "            return True\n",
    "    return False\n",
    "    \n",
    "def get_bullet_preferences(elements:list[str]):\n",
    "    \"\"\"\n",
    "    Given an array of elements return a list of lists where each list contains only the first element plus one of the other alternatives\n",
    "    \"\"\"\n",
    "    first_element = elements[0]\n",
    "    return [[first_element, e] for e in elements[1:]]\n",
    "\n",
    "\n",
    "bullet_vote(situation, 0, VotingScheme.BORDA, Happiness.LINEAR)\n"
   ]
  },
  {
   "cell_type": "markdown",
   "metadata": {},
   "source": [
    "Create 1000 situations and check for what fraction of them a strategy is good"
   ]
  },
  {
   "cell_type": "markdown",
   "metadata": {},
   "source": [
    "We do experiments for each voting scheme separately.<br>\n",
    "TODO: We need to save, what type of strategy has won this time?"
   ]
  },
  {
   "cell_type": "code",
   "execution_count": 1,
   "metadata": {},
   "outputs": [
    {
     "ename": "NameError",
     "evalue": "name 'Strategies' is not defined",
     "output_type": "error",
     "traceback": [
      "\u001b[1;31m---------------------------------------------------------------------------\u001b[0m",
      "\u001b[1;31mNameError\u001b[0m                                 Traceback (most recent call last)",
      "Cell \u001b[1;32mIn[1], line 1\u001b[0m\n\u001b[1;32m----> 1\u001b[0m strategies \u001b[38;5;241m=\u001b[39m \u001b[43mStrategies\u001b[49m()\n\u001b[0;32m      2\u001b[0m voting_scheme \u001b[38;5;241m=\u001b[39m VotingScheme\u001b[38;5;241m.\u001b[39mBORDA\n\u001b[0;32m      3\u001b[0m situation \u001b[38;5;241m=\u001b[39m Situation(num_voters\u001b[38;5;241m=\u001b[39m\u001b[38;5;241m5\u001b[39m, num_candidates\u001b[38;5;241m=\u001b[39m\u001b[38;5;241m4\u001b[39m)\n",
      "\u001b[1;31mNameError\u001b[0m: name 'Strategies' is not defined"
     ]
    }
   ],
   "source": [
    "strategies = Strategies()\n",
    "voting_scheme = VotingScheme.BORDA\n",
    "situation = Situation(num_voters=5, num_candidates=4)\n",
    "situation"
   ]
  },
  {
   "cell_type": "code",
   "execution_count": 33,
   "metadata": {},
   "outputs": [
    {
     "name": "stdout",
     "output_type": "stream",
     "text": [
      "0.877\n"
     ]
    }
   ],
   "source": [
    "strategies = Strategies()\n",
    "voting_scheme = VotingScheme.BORDA\n",
    "nr_repetitions = 1000\n",
    "num_voters = 4\n",
    "\n",
    "strategy_counter = 0\n",
    "for i in range(nr_repetitions):\n",
    "    situation = Situation(num_voters=num_voters, num_candidates=4)\n",
    "    # Check if at least one voter has a good strategy\n",
    "    for voter_index in range(num_voters):\n",
    "        if strategies.is_any_strategy_good(situation, voter_index, voting_scheme):\n",
    "            strategy_counter += 1\n",
    "            break\n",
    "        \n",
    "print(strategy_counter/nr_repetitions)"
   ]
  },
  {
   "cell_type": "markdown",
   "metadata": {},
   "source": [
    "Plurality cannot be affected by strategic voting because that would require a voter to vote for a candidate they prefer less than their favorite candidate."
   ]
  }
 ],
 "metadata": {
  "kernelspec": {
   "display_name": ".venv",
   "language": "python",
   "name": "python3"
  },
  "language_info": {
   "codemirror_mode": {
    "name": "ipython",
    "version": 3
   },
   "file_extension": ".py",
   "mimetype": "text/x-python",
   "name": "python",
   "nbconvert_exporter": "python",
   "pygments_lexer": "ipython3",
   "version": "3.10.7"
  }
 },
 "nbformat": 4,
 "nbformat_minor": 2
}
