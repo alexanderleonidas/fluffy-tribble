{
 "cells": [
  {
   "cell_type": "code",
   "execution_count": 5,
   "metadata": {},
   "outputs": [],
   "source": [
    "from random import Random\n",
    "import numpy as np\n",
    "import pandas as pd\n",
    "from tva.situation import Situation\n",
    "from tva.schemes import Schemes, VotingScheme\n",
    "from tva.voter import Voter"
   ]
  },
  {
   "cell_type": "code",
   "execution_count": 4,
   "metadata": {},
   "outputs": [
    {
     "data": {
      "text/plain": [
       "[Voter 0: ['A', 'C', 'D', 'B'],\n",
       " Voter 1: ['D', 'A', 'B', 'C'],\n",
       " Voter 2: ['C', 'A', 'D', 'B'],\n",
       " Voter 3: ['A', 'B', 'C', 'D']]"
      ]
     },
     "metadata": {},
     "output_type": "display_data"
    },
    {
     "name": "stdout",
     "output_type": "stream",
     "text": [
      "Anti plurality: A , Two voting: A , Borda: A\n"
     ]
    }
   ],
   "source": [
    "# Create the voting situation\n",
    "situation = Situation(num_voters=4, num_candidates=4, seed=42)\n",
    "display(situation.voters)\n",
    "\n",
    "# Apply the voting scheme to the situation\n",
    "schemes = Schemes()\n",
    "winner1 = schemes.anti_plurality_voting(situation.preference_matrix)\n",
    "winner2 = schemes.voting_for_two(situation.preference_matrix)\n",
    "winnner3 = schemes.borda_voting(situation.preference_matrix)\n",
    "print(\"Anti plurality:\", winner1, \", Two voting:\", winner2, \", Borda:\", winnner3)\n",
    "\n"
   ]
  },
  {
   "cell_type": "code",
   "execution_count": null,
   "metadata": {},
   "outputs": [],
   "source": []
  },
  {
   "cell_type": "code",
   "execution_count": 3,
   "metadata": {},
   "outputs": [
    {
     "ename": "SyntaxError",
     "evalue": "invalid syntax (2632773634.py, line 14)",
     "output_type": "error",
     "traceback": [
      "\u001b[1;36m  File \u001b[1;32m\"C:\\Users\\staso\\AppData\\Local\\Temp\\ipykernel_1736\\2632773634.py\"\u001b[1;36m, line \u001b[1;32m14\u001b[0m\n\u001b[1;33m    original_winner = situation.\u001b[0m\n\u001b[1;37m                                ^\u001b[0m\n\u001b[1;31mSyntaxError\u001b[0m\u001b[1;31m:\u001b[0m invalid syntax\n"
     ]
    }
   ],
   "source": [
    "class Strategies:\n",
    "    def __init__(self, **kwargs):\n",
    "        self.schemes = Schemes()\n",
    "    \n",
    "    def compromise(self, situation: Situation, voter_index: int, voting_scheme:VotingScheme):\n",
    "        # schemes = Schemes(situation.preference_matrix)\n",
    "        pass\n",
    "    \n",
    "    def bullet_vote(self, situation: Situation, voter_index: int, voting_scheme:VotingScheme):\n",
    "        pass\n",
    "\n",
    "    def bury(self, situation: Situation, voter_index: int, voting_scheme:VotingScheme):\n",
    "        \"\"\"Returns a new set of preferences for the voter to improve its happiness\"\"\"\n",
    "        voter: Voter = situation.voters[voter_index]\n",
    "        \n",
    "        # Save the original happiness of this voter\n",
    "        original_winner = self.schemes.apply_voting_scheme(voting_scheme, situation.preference_matrix)\n",
    "        original_happiness = voter.happiness(original_winner)\n",
    "        \n",
    "        # Rank an alternative insincerely lower than another\n",
    "        \n",
    "        \n",
    "    "
   ]
  },
  {
   "cell_type": "code",
   "execution_count": 9,
   "metadata": {},
   "outputs": [
    {
     "data": {
      "text/plain": [
       "[['A', 'C', 'D', 'B'],\n",
       " ['D', 'A', 'B', 'C'],\n",
       " ['C', 'A', 'D', 'B'],\n",
       " ['A', 'B', 'C', 'D']]"
      ]
     },
     "execution_count": 9,
     "metadata": {},
     "output_type": "execute_result"
    }
   ],
   "source": [
    "situation.preference_matrix"
   ]
  },
  {
   "cell_type": "code",
   "execution_count": 8,
   "metadata": {},
   "outputs": [
    {
     "data": {
      "text/plain": [
       "['A', 'C', 'D', 'B']"
      ]
     },
     "execution_count": 8,
     "metadata": {},
     "output_type": "execute_result"
    }
   ],
   "source": [
    "situation.voters[0].preferences"
   ]
  }
 ],
 "metadata": {
  "kernelspec": {
   "display_name": "Python 3",
   "language": "python",
   "name": "python3"
  },
  "language_info": {
   "codemirror_mode": {
    "name": "ipython",
    "version": 3
   },
   "file_extension": ".py",
   "mimetype": "text/x-python",
   "name": "python",
   "nbconvert_exporter": "python",
   "pygments_lexer": "ipython3",
   "version": "3.10.7"
  }
 },
 "nbformat": 4,
 "nbformat_minor": 2
}
