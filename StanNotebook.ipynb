{
 "cells": [
  {
   "cell_type": "code",
   "execution_count": 1,
   "metadata": {},
   "outputs": [],
   "source": [
    "from random import Random\n",
    "import numpy as np\n",
    "import pandas as pd\n",
    "from tva.situation import Situation\n",
    "from tva.strategies import Strategies\n",
    "import copy\n",
    "from tva.schemes import Schemes, VotingScheme\n",
    "from tva.enums import VotingScheme, HappinessFunc, StrategyType\n",
    "from tva.voter import Voter"
   ]
  },
  {
   "cell_type": "code",
   "execution_count": 2,
   "metadata": {},
   "outputs": [
    {
     "data": {
      "text/plain": [
       "Voter 0: ['C', 'B', 'D', 'A']\n",
       "Voter 1: ['C', 'B', 'D', 'A']\n",
       "Voter 2: ['C', 'B', 'A', 'D']\n",
       "Voter 3: ['A', 'C', 'D', 'B']"
      ]
     },
     "metadata": {},
     "output_type": "display_data"
    },
    {
     "name": "stdout",
     "output_type": "stream",
     "text": [
      "Anti plurality: C {'C': 4, 'B': 3, 'D': 3, 'A': 2} \n",
      "Two voting: C {'C': 4, 'B': 3, 'A': 1, 'D': 0} \n",
      "Borda: C {'C': 11, 'B': 6, 'D': 3, 'A': 4}\n"
     ]
    }
   ],
   "source": [
    "# Create the voting situation\n",
    "situation = Situation(num_voters=4, num_candidates=4, seed=40)\n",
    "display(situation)\n",
    "\n",
    "# Apply the voting scheme to the situation\n",
    "schemes = Schemes()\n",
    "voting_scheme = VotingScheme.BORDA\n",
    "schemes.print_results(situation, verbose=True)\n",
    "\n"
   ]
  },
  {
   "cell_type": "code",
   "execution_count": 3,
   "metadata": {},
   "outputs": [
    {
     "data": {
      "text/plain": [
       "Voter 0: ['A', 'D', 'C', 'B']\n",
       "Voter 1: ['A', 'D', 'C', 'B']\n",
       "Voter 2: ['C', 'D', 'B', 'A']\n",
       "Voter 3: ['C', 'D', 'B', 'A']"
      ]
     },
     "metadata": {},
     "output_type": "display_data"
    },
    {
     "name": "stdout",
     "output_type": "stream",
     "text": [
      "Applying strategy COMPROMISING\n",
      "None\n",
      "Applying strategy BURYING\n",
      "[['A', 'D', 'B', 'C']]\n",
      "Applying strategy BULLET\n",
      "None\n",
      "Applying strategy COMPROMISING\n",
      "None\n",
      "Applying strategy BURYING\n",
      "None\n",
      "Applying strategy BULLET\n",
      "[[]]\n",
      "Applying strategy COMPROMISING\n",
      "None\n",
      "Applying strategy BURYING\n",
      "[['C', 'B', 'A', 'D']]\n",
      "Applying strategy BULLET\n",
      "None\n",
      "Applying strategy COMPROMISING\n",
      "None\n",
      "Applying strategy BURYING\n",
      "[['C', 'B', 'A', 'D']]\n",
      "Applying strategy BULLET\n",
      "None\n"
     ]
    },
    {
     "data": {
      "text/plain": [
       "{0: [{'strategy': ['A', 'D', 'B', 'C'],\n",
       "   'strategic_winner': 'D',\n",
       "   'strategic_individual_happiness': np.float64(0.7777777777777777),\n",
       "   'original_individual_happiness': 0.3333333333333333,\n",
       "   'strategic_total_happiness': np.float64(2.222222222222222),\n",
       "   'original_total_happiness': 2.6666666666666665}]}"
      ]
     },
     "metadata": {},
     "output_type": "display_data"
    },
    {
     "data": {
      "text/plain": [
       "Voter 0: ['B', 'A', 'D', 'C']\n",
       "Voter 1: ['D', 'B', 'A', 'C']\n",
       "Voter 2: ['A', 'B', 'D', 'C']\n",
       "Voter 3: ['D', 'A', 'B', 'C']"
      ]
     },
     "metadata": {},
     "output_type": "display_data"
    },
    {
     "name": "stdout",
     "output_type": "stream",
     "text": [
      "Applying strategy COMPROMISING\n",
      "None\n",
      "Applying strategy BURYING\n",
      "[['B', 'C', 'D', 'A'], ['B', 'C', 'D', 'A']]\n",
      "Applying strategy BULLET\n",
      "None\n",
      "Applying strategy COMPROMISING\n",
      "None\n",
      "Applying strategy BURYING\n",
      "[['D', 'A', 'C', 'B'], ['D', 'C', 'A', 'B'], ['C', 'D', 'A', 'B'], ['D', 'C', 'A', 'B'], ['D', 'C', 'B', 'A']]\n",
      "Applying strategy BULLET\n",
      "None\n",
      "Applying strategy COMPROMISING\n",
      "None\n",
      "Applying strategy BURYING\n",
      "None\n",
      "Applying strategy BULLET\n",
      "None\n",
      "Applying strategy COMPROMISING\n",
      "None\n",
      "Applying strategy BURYING\n",
      "[['D', 'A', 'C', 'B'], ['A', 'C', 'B', 'D'], ['D', 'C', 'B', 'A'], ['A', 'C', 'B', 'D']]\n",
      "Applying strategy BULLET\n",
      "None\n",
      "Applying strategy COMPROMISING\n",
      "None\n",
      "Applying strategy BURYING\n",
      "[['D', 'A', 'C', 'B'], ['D', 'C', 'A', 'B'], ['C', 'D', 'A', 'B'], ['D', 'C', 'A', 'B'], ['D', 'C', 'B', 'A']]\n",
      "Applying strategy BULLET\n",
      "None\n",
      "Applying strategy COMPROMISING\n",
      "None\n",
      "Applying strategy BURYING\n",
      "None\n",
      "Applying strategy BULLET\n",
      "None\n",
      "Applying strategy COMPROMISING\n",
      "None\n",
      "Applying strategy BURYING\n",
      "[['D', 'A', 'C', 'B'], ['A', 'C', 'B', 'D'], ['D', 'C', 'B', 'A'], ['A', 'C', 'B', 'D']]\n",
      "Applying strategy BULLET\n",
      "None\n"
     ]
    },
    {
     "data": {
      "text/plain": [
       "{0: [{'strategy': ['B', 'C', 'D', 'A'],\n",
       "   'strategic_winner': 'B',\n",
       "   'strategic_individual_happiness': np.float64(0.5555555555555555),\n",
       "   'original_individual_happiness': 0.6666666666666666,\n",
       "   'strategic_total_happiness': np.float64(2.6666666666666665),\n",
       "   'original_total_happiness': 2.6666666666666665},\n",
       "  {'strategy': ['B', 'C', 'D', 'A'],\n",
       "   'strategic_winner': 'B',\n",
       "   'strategic_individual_happiness': np.float64(0.5555555555555555),\n",
       "   'original_individual_happiness': 0.6666666666666666,\n",
       "   'strategic_total_happiness': np.float64(2.6666666666666665),\n",
       "   'original_total_happiness': 2.6666666666666665}]}"
      ]
     },
     "metadata": {},
     "output_type": "display_data"
    },
    {
     "data": {
      "text/plain": [
       "Voter 0: ['C', 'D', 'A', 'B']\n",
       "Voter 1: ['D', 'B', 'C', 'A']\n",
       "Voter 2: ['A', 'D', 'B', 'C']\n",
       "Voter 3: ['D', 'A', 'C', 'B']"
      ]
     },
     "metadata": {},
     "output_type": "display_data"
    },
    {
     "name": "stdout",
     "output_type": "stream",
     "text": [
      "Applying strategy COMPROMISING\n",
      "None\n",
      "Applying strategy BURYING\n",
      "None\n",
      "Applying strategy BULLET\n",
      "None\n"
     ]
    },
    {
     "data": {
      "text/plain": [
       "{0: []}"
      ]
     },
     "metadata": {},
     "output_type": "display_data"
    },
    {
     "data": {
      "text/plain": [
       "Voter 0: ['C', 'B', 'A', 'D']\n",
       "Voter 1: ['C', 'B', 'D', 'A']\n",
       "Voter 2: ['D', 'B', 'C', 'A']\n",
       "Voter 3: ['B', 'D', 'C', 'A']"
      ]
     },
     "metadata": {},
     "output_type": "display_data"
    },
    {
     "name": "stdout",
     "output_type": "stream",
     "text": [
      "Applying strategy COMPROMISING\n",
      "None\n",
      "Applying strategy BURYING\n",
      "[['C', 'A', 'D', 'B']]\n",
      "Applying strategy BULLET\n",
      "None\n",
      "Applying strategy COMPROMISING\n",
      "None\n",
      "Applying strategy BURYING\n",
      "None\n",
      "Applying strategy BULLET\n",
      "None\n",
      "Applying strategy COMPROMISING\n",
      "[['B', 'D', 'C', 'A']]\n",
      "Applying strategy BURYING\n",
      "[['D', 'B', 'A', 'C']]\n",
      "Applying strategy BULLET\n",
      "None\n",
      "Applying strategy COMPROMISING\n",
      "None\n",
      "Applying strategy BURYING\n",
      "[['B', 'D', 'A', 'C'], ['D', 'A', 'C', 'B'], ['B', 'A', 'C', 'D'], ['D', 'A', 'C', 'B']]\n",
      "Applying strategy BULLET\n",
      "None\n"
     ]
    },
    {
     "data": {
      "text/plain": [
       "{0: [{'strategy': ['C', 'A', 'D', 'B'],\n",
       "   'strategic_winner': 'C',\n",
       "   'strategic_individual_happiness': np.float64(0.7777777777777777),\n",
       "   'original_individual_happiness': 0.6666666666666666,\n",
       "   'strategic_total_happiness': np.float64(2.8888888888888893),\n",
       "   'original_total_happiness': 3.0}]}"
      ]
     },
     "metadata": {},
     "output_type": "display_data"
    },
    {
     "data": {
      "text/plain": [
       "Voter 0: ['A', 'C', 'D', 'B']\n",
       "Voter 1: ['A', 'C', 'D', 'B']\n",
       "Voter 2: ['D', 'A', 'B', 'C']\n",
       "Voter 3: ['D', 'C', 'A', 'B']"
      ]
     },
     "metadata": {},
     "output_type": "display_data"
    },
    {
     "name": "stdout",
     "output_type": "stream",
     "text": [
      "Applying strategy COMPROMISING\n",
      "None\n",
      "Applying strategy BURYING\n",
      "None\n",
      "Applying strategy BULLET\n",
      "None\n"
     ]
    },
    {
     "data": {
      "text/plain": [
       "{0: []}"
      ]
     },
     "metadata": {},
     "output_type": "display_data"
    },
    {
     "data": {
      "text/plain": [
       "Voter 0: ['A', 'C', 'B', 'D']\n",
       "Voter 1: ['C', 'B', 'D', 'A']\n",
       "Voter 2: ['B', 'C', 'A', 'D']\n",
       "Voter 3: ['A', 'B', 'C', 'D']"
      ]
     },
     "metadata": {},
     "output_type": "display_data"
    },
    {
     "name": "stdout",
     "output_type": "stream",
     "text": [
      "Applying strategy COMPROMISING\n",
      "None\n",
      "Applying strategy BURYING\n",
      "[['A', 'C', 'D', 'B'], ['A', 'D', 'B', 'C'], ['D', 'C', 'B', 'A']]\n",
      "Applying strategy BULLET\n",
      "None\n",
      "Applying strategy COMPROMISING\n",
      "None\n",
      "Applying strategy BURYING\n",
      "None\n",
      "Applying strategy BULLET\n",
      "None\n",
      "Applying strategy COMPROMISING\n",
      "None\n",
      "Applying strategy BURYING\n",
      "[['B', 'D', 'A', 'C']]\n",
      "Applying strategy BULLET\n",
      "None\n",
      "Applying strategy COMPROMISING\n",
      "[['B', 'A', 'C', 'D']]\n",
      "Applying strategy BURYING\n",
      "[['A', 'B', 'D', 'C'], ['B', 'D', 'C', 'A'], ['A', 'D', 'C', 'B'], ['D', 'B', 'C', 'A'], ['B', 'D', 'C', 'A'], ['B', 'D', 'C', 'A']]\n",
      "Applying strategy BULLET\n",
      "None\n",
      "Applying strategy COMPROMISING\n",
      "None\n",
      "Applying strategy BURYING\n",
      "None\n",
      "Applying strategy BULLET\n",
      "None\n",
      "Applying strategy COMPROMISING\n",
      "None\n",
      "Applying strategy BURYING\n",
      "None\n",
      "Applying strategy BULLET\n",
      "None\n",
      "Applying strategy COMPROMISING\n",
      "None\n",
      "Applying strategy BURYING\n",
      "[['A', 'C', 'D', 'B'], ['A', 'D', 'C', 'B'], ['D', 'A', 'C', 'B'], ['A', 'D', 'C', 'B'], ['A', 'D', 'B', 'C']]\n",
      "Applying strategy BULLET\n",
      "None\n",
      "Applying strategy COMPROMISING\n",
      "None\n",
      "Applying strategy BURYING\n",
      "[['C', 'D', 'A', 'B'], ['D', 'C', 'A', 'B'], ['C', 'D', 'A', 'B']]\n",
      "Applying strategy BULLET\n",
      "None\n",
      "Applying strategy COMPROMISING\n",
      "None\n",
      "Applying strategy BURYING\n",
      "None\n",
      "Applying strategy BULLET\n",
      "None\n",
      "Applying strategy COMPROMISING\n",
      "None\n",
      "Applying strategy BURYING\n",
      "None\n",
      "Applying strategy BULLET\n",
      "None\n"
     ]
    },
    {
     "data": {
      "text/plain": [
       "{0: [{'strategy': ['A', 'C', 'D', 'B'],\n",
       "   'strategic_winner': 'C',\n",
       "   'strategic_individual_happiness': np.float64(0.6666666666666666),\n",
       "   'original_individual_happiness': 0.3333333333333333,\n",
       "   'strategic_total_happiness': np.float64(2.5555555555555554),\n",
       "   'original_total_happiness': 2.6666666666666665},\n",
       "  {'strategy': ['A', 'D', 'B', 'C'],\n",
       "   'strategic_winner': 'B',\n",
       "   'strategic_individual_happiness': np.float64(0.5555555555555555),\n",
       "   'original_individual_happiness': 0.3333333333333333,\n",
       "   'strategic_total_happiness': np.float64(2.5555555555555554),\n",
       "   'original_total_happiness': 2.6666666666666665},\n",
       "  {'strategy': ['D', 'C', 'B', 'A'],\n",
       "   'strategic_winner': 'B',\n",
       "   'strategic_individual_happiness': np.float64(0.4444444444444444),\n",
       "   'original_individual_happiness': 0.3333333333333333,\n",
       "   'strategic_total_happiness': np.float64(2.6666666666666665),\n",
       "   'original_total_happiness': 2.6666666666666665}]}"
      ]
     },
     "metadata": {},
     "output_type": "display_data"
    },
    {
     "data": {
      "text/plain": [
       "Voter 0: ['D', 'A', 'C', 'B']\n",
       "Voter 1: ['B', 'A', 'C', 'D']\n",
       "Voter 2: ['D', 'A', 'B', 'C']\n",
       "Voter 3: ['D', 'B', 'A', 'C']"
      ]
     },
     "metadata": {},
     "output_type": "display_data"
    },
    {
     "name": "stdout",
     "output_type": "stream",
     "text": [
      "Applying strategy COMPROMISING\n",
      "None\n",
      "Applying strategy BURYING\n",
      "None\n",
      "Applying strategy BULLET\n",
      "None\n"
     ]
    },
    {
     "data": {
      "text/plain": [
       "{0: []}"
      ]
     },
     "metadata": {},
     "output_type": "display_data"
    },
    {
     "data": {
      "text/plain": [
       "Voter 0: ['A', 'B', 'C', 'D']\n",
       "Voter 1: ['A', 'B', 'D', 'C']\n",
       "Voter 2: ['A', 'B', 'C', 'D']\n",
       "Voter 3: ['B', 'A', 'C', 'D']"
      ]
     },
     "metadata": {},
     "output_type": "display_data"
    },
    {
     "name": "stdout",
     "output_type": "stream",
     "text": [
      "Applying strategy COMPROMISING\n",
      "None\n",
      "Applying strategy BURYING\n",
      "None\n",
      "Applying strategy BULLET\n",
      "None\n"
     ]
    },
    {
     "data": {
      "text/plain": [
       "{0: []}"
      ]
     },
     "metadata": {},
     "output_type": "display_data"
    },
    {
     "data": {
      "text/plain": [
       "Voter 0: ['A', 'C', 'B', 'D']\n",
       "Voter 1: ['B', 'C', 'D', 'A']\n",
       "Voter 2: ['C', 'B', 'A', 'D']\n",
       "Voter 3: ['C', 'A', 'D', 'B']"
      ]
     },
     "metadata": {},
     "output_type": "display_data"
    },
    {
     "name": "stdout",
     "output_type": "stream",
     "text": [
      "Applying strategy COMPROMISING\n",
      "None\n",
      "Applying strategy BURYING\n",
      "None\n",
      "Applying strategy BULLET\n",
      "None\n"
     ]
    },
    {
     "data": {
      "text/plain": [
       "{0: []}"
      ]
     },
     "metadata": {},
     "output_type": "display_data"
    },
    {
     "data": {
      "text/plain": [
       "Voter 0: ['C', 'A', 'B', 'D']\n",
       "Voter 1: ['A', 'D', 'B', 'C']\n",
       "Voter 2: ['C', 'D', 'B', 'A']\n",
       "Voter 3: ['B', 'C', 'D', 'A']"
      ]
     },
     "metadata": {},
     "output_type": "display_data"
    },
    {
     "name": "stdout",
     "output_type": "stream",
     "text": [
      "Applying strategy COMPROMISING\n",
      "None\n",
      "Applying strategy BURYING\n",
      "None\n",
      "Applying strategy BULLET\n",
      "None\n"
     ]
    },
    {
     "data": {
      "text/plain": [
       "{0: []}"
      ]
     },
     "metadata": {},
     "output_type": "display_data"
    }
   ],
   "source": [
    "from copy import deepcopy\n",
    "from tva.situation import Situation\n",
    "from tva.enums import HappinessFunc, VotingScheme, StrategyType\n",
    "from tva.models.BTVA import BTVA\n",
    "import random\n",
    "\n",
    "class ATVA2(BTVA):\n",
    "    def __init__(self):\n",
    "        BTVA.__init__(self)\n",
    "\n",
    "\n",
    "    def analyse_single(self, situation: Situation, happiness_func: HappinessFunc, voting_scheme: VotingScheme, verbose=False) -> dict[int, list[dict[str, float|int]]]:\n",
    "        analysis = {}\n",
    "        for voter in situation.voters[:1]:\n",
    "            voter_index = voter.voter_id\n",
    "            original_total_happiness, original_individual_happiness= situation.calculate_happiness(situation.voters, happiness_func, voting_scheme) # type: ignore\n",
    "\n",
    "            strategic_preferences = self.strategy.apply_all_strategies_to_voter(situation,voter_index, voting_scheme, happiness_func, exhaustive_search=True, verbose=verbose)\n",
    "        \n",
    "            # Save my average happiness for each preference list\n",
    "            preferences_happiness = []\n",
    "            for _, preference_list in strategic_preferences.items():\n",
    "                # For each set of preferences in the list, create a new situation\n",
    "                for preferences in preference_list:\n",
    "                    situation_copy = deepcopy(situation)\n",
    "                    situation_copy.voters[voter_index].preferences = preferences\n",
    "                    winner = self.schemes.apply_voting_scheme(voting_scheme, situation_copy.voters)\n",
    "                    # Check the strategic options of each of my opponents, select the ones that maximize their happiness \n",
    "                    # then, calculate my happiness after they have chosen their best strategy\n",
    "                    all_other_voter_ids = [voter.voter_id for voter in situation_copy.voters if voter.voter_id != voter_index]\n",
    "                    my_happiness_list = []\n",
    "                    total_happiness_list = []\n",
    "                    for enemy_index in all_other_voter_ids:\n",
    "                        enemy_situation = self.__find_situation_chosen_by_enemy(situation_copy, enemy_index, voting_scheme, happiness_func, verbose)\n",
    "                        # Calculate my happiness after the enemy has chosen their best strategy\n",
    "                        strategic_total_happiness, strategic_individual_happiness= enemy_situation.calculate_happiness(situation.voters, happiness_func, voting_scheme) # type: ignore\n",
    "\n",
    "                        my_happiness = strategic_individual_happiness[voter_index]\n",
    "                        my_happiness_list.append(my_happiness)\n",
    "                        total_happiness_list.append(strategic_total_happiness)\n",
    "                    # Calculate my average happiness over all options that my enemies would choose\n",
    "                    my_average_happiness = np.mean(my_happiness_list)\n",
    "                    average_total_happiness = np.mean(total_happiness_list)\n",
    "                    preferences_happiness.append({\n",
    "                        \"strategy\": preferences,\n",
    "                        \"strategic_winner\":winner,\n",
    "                        \"strategic_individual_happiness\": my_average_happiness,\n",
    "                        'original_individual_happiness': original_individual_happiness[voter_index],\n",
    "                        'strategic_total_happiness': average_total_happiness,\n",
    "                        'original_total_happiness': original_total_happiness})\n",
    "\n",
    "            analysis[voter_index] = preferences_happiness\n",
    "\n",
    "        return analysis\n",
    "\n",
    "    def __find_situation_chosen_by_enemy(self, situation:Situation, enemy_index:int, voting_scheme:VotingScheme, happiness_func:HappinessFunc, verbose:bool=False) -> Situation:\n",
    "        enemy_strategies = self.strategy.apply_all_strategies_to_voter(situation,enemy_index, voting_scheme, happiness_func, exhaustive_search=True, verbose=verbose)\n",
    "        \n",
    "        # Save only the best strategy for each enemy\n",
    "        best_enemy_situation = situation\n",
    "        best_enemy_happiness = -1\n",
    "        # Try all the strategies of the enemy voter\n",
    "        for _, enemy_preference_list in enemy_strategies.items():\n",
    "            for enemy_preferences in enemy_preference_list:\n",
    "                enemy_situation = deepcopy(situation)\n",
    "                enemy_situation.voters[enemy_index].preferences = enemy_preferences\n",
    "                # Calculate the happiness of the enemy voter\n",
    "                enemy_happiness = float(enemy_situation.calculate_individual_happiness(enemy_preferences, happiness_func, voting_scheme)) # type: ignore\n",
    "                if enemy_happiness > best_enemy_happiness:\n",
    "                    best_enemy_happiness = enemy_happiness\n",
    "                    best_enemy_situation = enemy_situation\n",
    "        return best_enemy_situation\n",
    "    \n",
    "\n",
    "# Create the voting situation\n",
    "for i in range(10):\n",
    "    situation = Situation(num_voters=4, num_candidates=4, seed=i)\n",
    "    display(situation)\n",
    "\n",
    "    atva = ATVA2()\n",
    "    analysis = atva.analyse_single(situation, HappinessFunc.LINEAR, VotingScheme.BORDA, verbose=True)\n",
    "    display(analysis)"
   ]
  },
  {
   "cell_type": "code",
   "execution_count": 2,
   "metadata": {},
   "outputs": [
    {
     "name": "stdout",
     "output_type": "stream",
     "text": [
      "Original Situation: \n",
      "Preference Matrix:\n",
      "        V0    V1    V2    V3    V4    V5    V6    V7    V8    V9\n",
      "Rank 1  A     ?     E     E     B     ?     B     D     ?     D\n",
      "Rank 2  ?     E     A     ?     D     ?     ?     C     ?     B\n",
      "Rank 3  E     ?     D     A     E     ?     ?     E     B     C\n",
      "Rank 4  C     ?     C     C     ?     ?     ?     ?     D     ?\n",
      "Rank 5  ?     ?     B     D     ?     ?     ?     B     C     ?\n",
      "\n",
      "After Monte Carlo Simulation preferences:\n",
      "\n",
      "Preference Matrix:\n",
      "        V0    V1    V2    V3    V4    V5    V6    V7    V8    V9\n",
      "Rank 1  A     B     E     E     B     E     B     D     E     D\n",
      "Rank 2  B     E     A     B     D     A     E     C     A     B\n",
      "Rank 3  E     C     D     A     E     C     A     E     B     C\n",
      "Rank 4  C     A     C     C     C     B     C     A     D     E\n",
      "Rank 5  D     D     B     D     A     D     D     B     C     A\n",
      "[['E', 'A', 'C', 'D', 'B'], ['A', 'E', 'C', 'D', 'B'], ['C', 'E', 'B', 'D', 'A'], ['C', 'E', 'D', 'B', 'A'], ['C', 'E', 'D', 'B', 'A'], ['C', 'E', 'D', 'B', 'A'], ['C', 'E', 'A', 'D', 'B'], ['C', 'E', 'D', 'A', 'B'], ['A', 'E', 'C', 'D', 'B'], ['E', 'A', 'C', 'D', 'B'], ['E', 'A', 'C', 'D', 'B']]\n",
      "Voter 3 Strategies:\n",
      "  Strategy: ['E', 'A', 'C', 'D', 'B']\n",
      "    - Strategic Winner: E\n",
      "    - Strategic Individual Happiness: 1.000\n",
      "    - Original Individual Happiness: 0.905\n",
      "    - Strategic Total Happiness: 9.007\n",
      "    - Original Total Happiness: 8.615\n",
      "  \n",
      "  Strategy: ['A', 'E', 'C', 'D', 'B']\n",
      "    - Strategic Winner: E\n",
      "    - Strategic Individual Happiness: 1.000\n",
      "    - Original Individual Happiness: 0.905\n",
      "    - Strategic Total Happiness: 9.007\n",
      "    - Original Total Happiness: 8.615\n",
      "  \n",
      "  Strategy: ['C', 'E', 'B', 'D', 'A']\n",
      "    - Strategic Winner: E\n",
      "    - Strategic Individual Happiness: 1.000\n",
      "    - Original Individual Happiness: 0.905\n",
      "    - Strategic Total Happiness: 9.007\n",
      "    - Original Total Happiness: 8.615\n",
      "  \n",
      "  Strategy: ['C', 'E', 'D', 'B', 'A']\n",
      "    - Strategic Winner: E\n",
      "    - Strategic Individual Happiness: 1.000\n",
      "    - Original Individual Happiness: 0.905\n",
      "    - Strategic Total Happiness: 9.007\n",
      "    - Original Total Happiness: 8.615\n",
      "  \n",
      "  Strategy: ['C', 'E', 'D', 'B', 'A']\n",
      "    - Strategic Winner: E\n",
      "    - Strategic Individual Happiness: 1.000\n",
      "    - Original Individual Happiness: 0.905\n",
      "    - Strategic Total Happiness: 9.007\n",
      "    - Original Total Happiness: 8.615\n",
      "  \n",
      "  Strategy: ['C', 'E', 'D', 'B', 'A']\n",
      "    - Strategic Winner: E\n",
      "    - Strategic Individual Happiness: 1.000\n",
      "    - Original Individual Happiness: 0.905\n",
      "    - Strategic Total Happiness: 9.007\n",
      "    - Original Total Happiness: 8.615\n",
      "  \n",
      "  Strategy: ['C', 'E', 'A', 'D', 'B']\n",
      "    - Strategic Winner: E\n",
      "    - Strategic Individual Happiness: 1.000\n",
      "    - Original Individual Happiness: 0.905\n",
      "    - Strategic Total Happiness: 9.007\n",
      "    - Original Total Happiness: 8.615\n",
      "  \n",
      "  Strategy: ['C', 'E', 'D', 'A', 'B']\n",
      "    - Strategic Winner: E\n",
      "    - Strategic Individual Happiness: 1.000\n",
      "    - Original Individual Happiness: 0.905\n",
      "    - Strategic Total Happiness: 9.007\n",
      "    - Original Total Happiness: 8.615\n",
      "  \n",
      "  Strategy: ['A', 'E', 'C', 'D', 'B']\n",
      "    - Strategic Winner: E\n",
      "    - Strategic Individual Happiness: 1.000\n",
      "    - Original Individual Happiness: 0.905\n",
      "    - Strategic Total Happiness: 9.007\n",
      "    - Original Total Happiness: 8.615\n",
      "  \n",
      "  Strategy: ['E', 'A', 'C', 'D', 'B']\n",
      "    - Strategic Winner: E\n",
      "    - Strategic Individual Happiness: 1.000\n",
      "    - Original Individual Happiness: 0.905\n",
      "    - Strategic Total Happiness: 9.007\n",
      "    - Original Total Happiness: 8.615\n",
      "  \n",
      "  Strategy: ['E', 'A', 'C', 'D', 'B']\n",
      "    - Strategic Winner: E\n",
      "    - Strategic Individual Happiness: 1.000\n",
      "    - Original Individual Happiness: 0.905\n",
      "    - Strategic Total Happiness: 9.007\n",
      "    - Original Total Happiness: 8.615\n",
      "  \n",
      "Original Situation: \n",
      "Preference Matrix:\n",
      "        V0    V1    V2    V3    V4    V5    V6    V7    V8    V9\n",
      "Rank 1  A     ?     E     E     B     ?     B     D     ?     D\n",
      "Rank 2  ?     E     A     ?     D     ?     ?     C     ?     B\n",
      "Rank 3  E     ?     D     A     E     ?     ?     E     B     C\n",
      "Rank 4  C     ?     C     C     ?     ?     ?     ?     D     ?\n",
      "Rank 5  ?     ?     B     D     ?     ?     ?     B     C     ?\n",
      "\n",
      "After Monte Carlo Simulation preferences:\n",
      "\n",
      "Preference Matrix:\n",
      "        V0    V1    V2    V3    V4    V5    V6    V7    V8    V9\n",
      "Rank 1  A     A     E     E     B     E     B     D     E     D\n",
      "Rank 2  B     E     A     B     D     D     E     C     A     B\n",
      "Rank 3  E     B     D     A     E     C     C     E     B     C\n",
      "Rank 4  C     C     C     C     A     A     D     A     D     E\n",
      "Rank 5  D     D     B     D     C     B     A     B     C     A\n",
      "[['B', 'C', 'D', 'A', 'E'], ['C', 'B', 'D', 'A', 'E'], ['C', 'B', 'E', 'A', 'D'], ['C', 'B', 'A', 'D', 'E'], ['C', 'B', 'D', 'E', 'A'], ['C', 'B', 'A', 'E', 'D'], ['B', 'C', 'D', 'A', 'E'], ['B', 'C', 'D', 'A', 'E']]\n",
      "Voter 6 Strategies:\n",
      "  Strategy: ['B', 'C', 'D', 'A', 'E']\n",
      "    - Strategic Winner: B\n",
      "    - Strategic Individual Happiness: 1.000\n",
      "    - Original Individual Happiness: 0.905\n",
      "    - Strategic Total Happiness: 8.363\n",
      "    - Original Total Happiness: 9.007\n",
      "  \n",
      "  Strategy: ['C', 'B', 'D', 'A', 'E']\n",
      "    - Strategic Winner: B\n",
      "    - Strategic Individual Happiness: 1.000\n",
      "    - Original Individual Happiness: 0.905\n",
      "    - Strategic Total Happiness: 8.363\n",
      "    - Original Total Happiness: 9.007\n",
      "  \n",
      "  Strategy: ['C', 'B', 'E', 'A', 'D']\n",
      "    - Strategic Winner: B\n",
      "    - Strategic Individual Happiness: 1.000\n",
      "    - Original Individual Happiness: 0.905\n",
      "    - Strategic Total Happiness: 8.363\n",
      "    - Original Total Happiness: 9.007\n",
      "  \n",
      "  Strategy: ['C', 'B', 'A', 'D', 'E']\n",
      "    - Strategic Winner: B\n",
      "    - Strategic Individual Happiness: 1.000\n",
      "    - Original Individual Happiness: 0.905\n",
      "    - Strategic Total Happiness: 8.363\n",
      "    - Original Total Happiness: 9.007\n",
      "  \n",
      "  Strategy: ['C', 'B', 'D', 'E', 'A']\n",
      "    - Strategic Winner: B\n",
      "    - Strategic Individual Happiness: 1.000\n",
      "    - Original Individual Happiness: 0.905\n",
      "    - Strategic Total Happiness: 8.363\n",
      "    - Original Total Happiness: 9.007\n",
      "  \n",
      "  Strategy: ['C', 'B', 'A', 'E', 'D']\n",
      "    - Strategic Winner: B\n",
      "    - Strategic Individual Happiness: 1.000\n",
      "    - Original Individual Happiness: 0.905\n",
      "    - Strategic Total Happiness: 8.363\n",
      "    - Original Total Happiness: 9.007\n",
      "  \n",
      "  Strategy: ['B', 'C', 'D', 'A', 'E']\n",
      "    - Strategic Winner: B\n",
      "    - Strategic Individual Happiness: 1.000\n",
      "    - Original Individual Happiness: 0.905\n",
      "    - Strategic Total Happiness: 8.363\n",
      "    - Original Total Happiness: 9.007\n",
      "  \n",
      "  Strategy: ['B', 'C', 'D', 'A', 'E']\n",
      "    - Strategic Winner: B\n",
      "    - Strategic Individual Happiness: 1.000\n",
      "    - Original Individual Happiness: 0.905\n",
      "    - Strategic Total Happiness: 8.363\n",
      "    - Original Total Happiness: 9.007\n",
      "  \n"
     ]
    }
   ],
   "source": [
    "from tva.models.ATVA3 import ATVA3\n",
    "\n",
    "\n",
    "atva = ATVA3()\n",
    "print('Original Situation: ')\n",
    "situation = Situation(10,5, seed=42, info=0.5)\n",
    "situation.print_preference_matrix()\n",
    "situation, _ = atva.monte_carlo_best_preferences(situation, VotingScheme.BORDA)\n",
    "print('\\nAfter Monte Carlo Simulation preferences:\\n')\n",
    "situation.print_preference_matrix()\n",
    "happiness_func = HappinessFunc.EXP\n",
    "voting_scheme = VotingScheme.VOTE_FOR_TWO\n",
    "strategy_type = StrategyType.BURYING\n",
    "# ranking = Schemes().apply_voting_scheme(voting_scheme, situation.voters)\n",
    "sol = atva.analyse_single(situation, happiness_func, voting_scheme, strategy_type) # type: ignore\n",
    "atva.display_strategic_data(sol)"
   ]
  },
  {
   "cell_type": "code",
   "execution_count": 11,
   "metadata": {},
   "outputs": [
    {
     "data": {
      "text/plain": [
       "Voter 0: ['A', 'B', 'C', 'D']\n",
       "Voter 1: ['C', 'A', 'B', 'D']\n",
       "Voter 2: ['D', 'B', 'C', 'A']\n",
       "Voter 3: ['D', 'B', 'A', 'C']"
      ]
     },
     "metadata": {},
     "output_type": "display_data"
    },
    {
     "name": "stdout",
     "output_type": "stream",
     "text": [
      "Borda: B {'A': 6, 'B': 7, 'C': 5, 'D': 6}\n",
      "[['A', 'C', 'D', 'B']]\n"
     ]
    }
   ],
   "source": [
    "situation = Situation(num_voters=4, num_candidates=4)\n",
    "situation.voters[0].preferences = [\"A\",\"B\",\"C\",\"D\"]\n",
    "situation.voters[1].preferences = [\"C\",\"A\",\"B\",\"D\"]\n",
    "situation.voters[2].preferences = [\"D\",\"B\",\"C\",\"A\"]\n",
    "situation.voters[3].preferences = [\"D\",\"B\",\"A\",\"C\"]\n",
    "display(situation)\n",
    "\n",
    "current_winner, scores = schemes.apply_voting_scheme(VotingScheme.BORDA, situation.voters, return_scores=True)\n",
    "print(\"Borda:\", current_winner, scores)\n",
    "\n",
    "# situation.voters[0].preferences = [\"B\",\"C\",\"A\",\"D\"]\n",
    "# current_winner, scores = schemes.apply_voting_scheme(VotingScheme.BORDA, situation.voters, return_scores=True)\n",
    "# print(\"Borda:\", current_winner, scores)\n",
    "\n",
    "strategies = Strategies()\n",
    "a = strategies.bury(situation, 0, VotingScheme.BORDA, HappinessFunc.LINEAR, verbose=False, exhaustive_search=True)\n",
    "print(a)"
   ]
  },
  {
   "cell_type": "code",
   "execution_count": 15,
   "metadata": {},
   "outputs": [
    {
     "data": {
      "text/plain": [
       "Voter 0: ['A', 'B', 'C', 'D']\n",
       "Voter 1: ['C', 'A', 'B', 'D']\n",
       "Voter 2: ['B', 'D', 'C', 'A']\n",
       "Voter 3: ['B', 'A', 'D', 'C']"
      ]
     },
     "metadata": {},
     "output_type": "display_data"
    },
    {
     "name": "stdout",
     "output_type": "stream",
     "text": [
      "Borda: B {'A': 7, 'B': 9, 'C': 5, 'D': 3}\n",
      "None\n"
     ]
    }
   ],
   "source": [
    "situation = Situation(num_voters=4, num_candidates=4)\n",
    "situation.voters[0].preferences = [\"A\",\"B\",\"C\",\"D\"]\n",
    "situation.voters[1].preferences = [\"C\",\"A\",\"B\",\"D\"]\n",
    "situation.voters[2].preferences = [\"B\",\"D\",\"C\",\"A\"]\n",
    "situation.voters[3].preferences = [\"B\",\"A\",\"D\",\"C\"]\n",
    "display(situation)\n",
    "\n",
    "current_winner, scores = schemes.apply_voting_scheme(VotingScheme.BORDA, situation.voters, return_scores=True)\n",
    "print(\"Borda:\", current_winner, scores)\n",
    "\n",
    "# situation.voters[0].preferences = [\"B\",\"C\",\"A\",\"D\"]\n",
    "# current_winner, scores = schemes.apply_voting_scheme(VotingScheme.BORDA, situation.voters, return_scores=True)\n",
    "# print(\"Borda:\", current_winner, scores)\n",
    "\n",
    "strategies = Strategies()\n",
    "a = strategies.bullet_vote(situation, 0, VotingScheme.BORDA, HappinessFunc.LINEAR, exhaustive_search=True)\n",
    "print(a)"
   ]
  },
  {
   "cell_type": "code",
   "execution_count": null,
   "metadata": {},
   "outputs": [
    {
     "name": "stdout",
     "output_type": "stream",
     "text": [
      "['A', 'D', 'C', 'B']\n",
      "Borda: D {'A': 4, 'D': 10, 'C': 5, 'B': 5}\n",
      "Sorted scores: [('D', 10), ('C', 5), ('B', 5), ('A', 4)]\n",
      "Candidates: ['C', 'B', 'A']\n",
      "Swapping A and A\n",
      "['A', 'D', 'C', 'B']\n",
      "Borda: D {'A': 4, 'D': 10, 'C': 5, 'B': 5}\n"
     ]
    }
   ],
   "source": [
    "import copy\n",
    "\n",
    "def get_indexes_to_iterate(preferences:list[str], scores:dict[str,int]):\n",
    "    # Given a list of preferences and the scores of those preferences, return a list of indexes of candidates to the left of the current winner\n",
    "    # The current winner is the candidate with the highest score\n",
    "    # Return the indexes of preferences sorted by score in descending order\n",
    "    # If the current winner is at index 0, return an empty list\n",
    "    current_winner = max(scores, key=scores.get) # type: ignore\n",
    "    current_winner_index = preferences.index(current_winner)\n",
    "\n",
    "    sorted_scores = sorted(scores.items(), key=lambda x: x[1], reverse=True)\n",
    "    print(\"Sorted scores:\", sorted_scores)\n",
    "    candidates = [x[0] for x in sorted_scores[1:]]\n",
    "    print(\"Candidates:\", candidates)\n",
    "\n",
    "    indexes_to_try = []\n",
    "    for i in candidates:\n",
    "        candidate_index = preferences.index(i)\n",
    "        if candidate_index < current_winner_index:\n",
    "            indexes_to_try.append(candidate_index)\n",
    "    return indexes_to_try\n",
    "\n",
    "def swap(situation:Situation, voter_id:int, candidate1_index:int, candidate2_index:int, verbose=False):\n",
    "    if verbose:\n",
    "        print(f\"Swapping {situation.voters[voter_id].preferences[candidate1_index]} and {situation.voters[voter_id].preferences[candidate2_index]}\")\n",
    "    situation.voters[voter_id].preferences[candidate1_index], situation.voters[voter_id].preferences[candidate2_index] = situation.voters[voter_id].preferences[candidate2_index], situation.voters[voter_id].preferences[candidate1_index]\n",
    "\n",
    "def compromise(situation:Situation, voter_index:int, voting_scheme:VotingScheme, happiness_func:Happiness, exhaustive_search=False, verbose=False) -> None | list[str]:\n",
    "    # Copy the situation\n",
    "    new_situation = copy.deepcopy(situation)\n",
    "    original_voter = new_situation.voters[voter_index]\n",
    "    original_preferences = new_situation.voters[voter_index].preferences\n",
    "    # If the original winner is the first preference of the voter, return False\n",
    "    original_winner, scores = schemes.apply_voting_scheme(voting_scheme, new_situation.voters, return_scores=True)\n",
    "    original_winner_index = original_preferences.index(original_winner) # type: ignore\n",
    "    original_winner_happiness = original_voter.calculate_happiness(original_winner, happiness_func)\n",
    "\n",
    "    if verbose:\n",
    "        print(original_preferences)\n",
    "        print(\"Borda:\", original_winner, scores)\n",
    "\n",
    "    if original_winner_index == 0:\n",
    "        return None\n",
    "    \n",
    "    all_winning_preferences = []\n",
    "    indexes_to_iterate = get_indexes_to_iterate(original_preferences, scores) # type: ignore\n",
    "    # Loop over all candidates to the left of the original winner sorted by score\n",
    "    for i in indexes_to_iterate:\n",
    "        # Move that candidate to the first position\n",
    "        swap(new_situation, voter_index, i, 0, verbose=verbose)\n",
    "        # Check if the winner changed and if the voter is happier\n",
    "        new_winner, scores = schemes.apply_voting_scheme(voting_scheme, new_situation.voters, return_scores=True)\n",
    "        new_winner_happiness = original_voter.calculate_happiness(new_winner, happiness_func)\n",
    "\n",
    "        if verbose:\n",
    "            print(new_situation.voters[voter_index].preferences)\n",
    "            print(\"Borda:\", new_winner, scores)\n",
    "\n",
    "        if new_winner != original_winner and new_winner_happiness > original_winner_happiness:\n",
    "            if exhaustive_search:\n",
    "                all_winning_preferences.append(new_situation.voters[voter_index].preferences)\n",
    "                print(\"Found a winning preference\")\n",
    "            else:\n",
    "                print(\"Found a winning preference\")\n",
    "                return new_situation.voters[voter_index].preferences\n",
    "\n",
    "    if all_winning_preferences == []:\n",
    "        return None\n",
    "    return all_winning_preferences\n",
    "\n",
    "compromise(situation, 0, VotingScheme.BORDA, Happiness.LINEAR, verbose=True, exhaustive_search=True)"
   ]
  },
  {
   "cell_type": "markdown",
   "metadata": {},
   "source": [
    "Create 1000 situations and check for what fraction of them a strategy is good"
   ]
  },
  {
   "cell_type": "markdown",
   "metadata": {},
   "source": [
    "We do experiments for each voting scheme separately.<br>\n",
    "TODO: We need to save, what type of strategy has won this time?"
   ]
  },
  {
   "cell_type": "code",
   "execution_count": 1,
   "metadata": {},
   "outputs": [
    {
     "ename": "NameError",
     "evalue": "name 'Strategies' is not defined",
     "output_type": "error",
     "traceback": [
      "\u001b[1;31m---------------------------------------------------------------------------\u001b[0m",
      "\u001b[1;31mNameError\u001b[0m                                 Traceback (most recent call last)",
      "Cell \u001b[1;32mIn[1], line 1\u001b[0m\n\u001b[1;32m----> 1\u001b[0m strategies \u001b[38;5;241m=\u001b[39m \u001b[43mStrategies\u001b[49m()\n\u001b[0;32m      2\u001b[0m voting_scheme \u001b[38;5;241m=\u001b[39m VotingScheme\u001b[38;5;241m.\u001b[39mBORDA\n\u001b[0;32m      3\u001b[0m situation \u001b[38;5;241m=\u001b[39m Situation(num_voters\u001b[38;5;241m=\u001b[39m\u001b[38;5;241m5\u001b[39m, num_candidates\u001b[38;5;241m=\u001b[39m\u001b[38;5;241m4\u001b[39m)\n",
      "\u001b[1;31mNameError\u001b[0m: name 'Strategies' is not defined"
     ]
    }
   ],
   "source": [
    "strategies = Strategies()\n",
    "voting_scheme = VotingScheme.BORDA\n",
    "situation = Situation(num_voters=5, num_candidates=4)\n",
    "situation"
   ]
  },
  {
   "cell_type": "code",
   "execution_count": 33,
   "metadata": {},
   "outputs": [
    {
     "name": "stdout",
     "output_type": "stream",
     "text": [
      "0.877\n"
     ]
    }
   ],
   "source": [
    "strategies = Strategies()\n",
    "voting_scheme = VotingScheme.BORDA\n",
    "nr_repetitions = 1000\n",
    "num_voters = 4\n",
    "\n",
    "strategy_counter = 0\n",
    "for i in range(nr_repetitions):\n",
    "    situation = Situation(num_voters=num_voters, num_candidates=4)\n",
    "    # Check if at least one voter has a good strategy\n",
    "    for voter_index in range(num_voters):\n",
    "        if strategies.is_any_strategy_good(situation, voter_index, voting_scheme):\n",
    "            strategy_counter += 1\n",
    "            break\n",
    "        \n",
    "print(strategy_counter/nr_repetitions)"
   ]
  },
  {
   "cell_type": "markdown",
   "metadata": {},
   "source": [
    "Plurality cannot be affected by strategic voting because that would require a voter to vote for a candidate they prefer less than their favorite candidate."
   ]
  },
  {
   "cell_type": "code",
   "execution_count": 32,
   "metadata": {},
   "outputs": [
    {
     "data": {
      "text/plain": [
       "array([  8.66, -33.34, -16.34,  11.66, -15.34,   2.66,   0.66, -15.34,\n",
       "        32.66,  23.66])"
      ]
     },
     "execution_count": 32,
     "metadata": {},
     "output_type": "execute_result"
    }
   ],
   "source": [
    "a = np.array([\n",
    "[358,393,450, 393, 450, 552, 358, 306, 386, 450],\n",
    "[386,407,386, 341, 450, 412, 474, 341, 386, 513],\n",
    "[386,412,358, 390, 450, 420, 306, 306, 513, 390],\n",
    "[513,386,358, 404, 341, 552, 386, 552, 420, 450],\n",
    "[513,420,341, 306, 450, 358, 474, 306, 420, 420],\n",
    "[420,390,341, 390, 474, 306, 404, 412, 404, 552],\n",
    "[450,306,393, 552, 412, 513, 513, 513, 552, 407],\n",
    "[412,341,407, 513, 306, 513, 450, 412, 552, 450],\n",
    "[386,450,474, 552, 341, 341, 306, 404, 474, 474],\n",
    "[393,393,450, 450, 407, 450, 306, 420, 450, 390],\n",
    "[404,341,412, 420, 407, 420, 407, 407, 450, 513],\n",
    "[450,450,341, 412, 404, 341, 420, 341, 390, 306],\n",
    "[390,358,407, 407, 407, 386, 552, 412, 474, 306],\n",
    "[474,358,404, 306, 306, 306, 412, 450, 420, 404],\n",
    "[412,306,450, 552, 386, 390, 450, 407, 407, 552]])\n",
    "single_mean = a.mean()\n",
    "means = a.mean(axis=0).round(0)\n",
    "single_mean.round(0)\n",
    "means - single_mean"
   ]
  }
 ],
 "metadata": {
  "kernelspec": {
   "display_name": ".venv",
   "language": "python",
   "name": "python3"
  },
  "language_info": {
   "codemirror_mode": {
    "name": "ipython",
    "version": 3
   },
   "file_extension": ".py",
   "mimetype": "text/x-python",
   "name": "python",
   "nbconvert_exporter": "python",
   "pygments_lexer": "ipython3",
   "version": "3.10.7"
  }
 },
 "nbformat": 4,
 "nbformat_minor": 2
}
