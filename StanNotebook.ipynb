{
 "cells": [
  {
   "cell_type": "code",
   "execution_count": 1,
   "metadata": {},
   "outputs": [],
   "source": [
    "from random import Random\n",
    "import numpy as np\n",
    "import pandas as pd\n",
    "from tva.situation import Situation\n",
    "from tva.strategies import Strategies\n",
    "import copy\n",
    "from tva.schemes import Schemes, VotingScheme\n",
    "from tva.voter import Voter"
   ]
  },
  {
   "cell_type": "code",
   "execution_count": 2,
   "metadata": {},
   "outputs": [
    {
     "data": {
      "text/plain": [
       "Voter 0: ['B', 'A', 'D', 'C']\n",
       "Voter 1: ['B', 'D', 'C', 'A']\n",
       "Voter 2: ['D', 'A', 'C', 'B']\n",
       "Voter 3: ['B', 'C', 'A', 'D']"
      ]
     },
     "metadata": {},
     "output_type": "display_data"
    },
    {
     "name": "stdout",
     "output_type": "stream",
     "text": [
      "Anti plurality: B {'B': 3, 'A': 3, 'D': 3, 'C': 3} \n",
      "Two voting: B {'B': 3, 'A': 2, 'D': 2, 'C': 1} \n",
      "Borda: B {'B': 9, 'A': 5, 'D': 6, 'C': 4}\n"
     ]
    }
   ],
   "source": [
    "# Create the voting situation\n",
    "situation = Situation(num_voters=4, num_candidates=4)\n",
    "display(situation)\n",
    "\n",
    "# Apply the voting scheme to the situation\n",
    "schemes = Schemes()\n",
    "voting_scheme = VotingScheme.BORDA\n",
    "schemes.print_results(situation, verbose=True)\n",
    "\n"
   ]
  },
  {
   "cell_type": "code",
   "execution_count": 28,
   "metadata": {},
   "outputs": [
    {
     "data": {
      "text/plain": [
       "Voter 0: ['A', 'B', 'D', 'C']\n",
       "Voter 1: ['B', 'C', 'A', 'D']\n",
       "Voter 2: ['A', 'D', 'B', 'C']\n",
       "Voter 3: ['B', 'C', 'D', 'A']"
      ]
     },
     "execution_count": 28,
     "metadata": {},
     "output_type": "execute_result"
    }
   ],
   "source": [
    "situation = Situation(num_voters=4, num_candidates=4)\n",
    "situation.voters[0].preferences = [\"A\",\"B\",\"D\",\"C\"]\n",
    "situation.voters[1].preferences = [\"B\",\"C\",\"A\",\"D\"]\n",
    "situation.voters[2].preferences = [\"A\",\"D\",\"B\",\"C\"]\n",
    "situation.voters[3].preferences = [\"B\",\"C\",\"D\",\"A\"]\n",
    "situation"
   ]
  },
  {
   "cell_type": "code",
   "execution_count": 32,
   "metadata": {},
   "outputs": [
    {
     "data": {
      "text/plain": [
       "Voter 0: ['A', 'B', 'D', 'C']\n",
       "Voter 1: ['B', 'C', 'A', 'D']\n",
       "Voter 2: ['A', 'D', 'B', 'C']\n",
       "Voter 3: ['B', 'C', 'D', 'A']"
      ]
     },
     "metadata": {},
     "output_type": "display_data"
    },
    {
     "name": "stdout",
     "output_type": "stream",
     "text": [
      "Borda: B {'A': 7, 'B': 9, 'D': 4, 'C': 4}\n"
     ]
    },
    {
     "data": {
      "text/plain": [
       "Voter 0: ['A']\n",
       "Voter 1: ['B', 'C', 'A', 'D']\n",
       "Voter 2: ['A', 'D', 'B', 'C']\n",
       "Voter 3: ['B', 'C', 'D', 'A']"
      ]
     },
     "metadata": {},
     "output_type": "display_data"
    },
    {
     "name": "stdout",
     "output_type": "stream",
     "text": [
      "Borda: B {'A': 4, 'B': 7, 'C': 4, 'D': 3}\n"
     ]
    }
   ],
   "source": [
    "\n",
    "display(situation)\n",
    "winnner, scores = schemes.borda_voting(situation.voters, True)\n",
    "print(\"Borda:\", winnner, scores)\n",
    "situation2 = copy.deepcopy(situation)\n",
    "situation2.voters[0].preferences = [\"A\"]\n",
    "winnner, scores = schemes.borda_voting(situation2.voters, True)\n",
    "display(situation2)\n",
    "print(\"Borda:\", winnner, scores)"
   ]
  },
  {
   "cell_type": "markdown",
   "metadata": {},
   "source": [
    "Create 1000 situations and check for what fraction of them a strategy is good"
   ]
  },
  {
   "cell_type": "markdown",
   "metadata": {},
   "source": [
    "We do experiments for each voting scheme separately.<br>\n",
    "TODO: We need to save, what type of strategy has won this time?"
   ]
  },
  {
   "cell_type": "code",
   "execution_count": 33,
   "metadata": {},
   "outputs": [
    {
     "name": "stdout",
     "output_type": "stream",
     "text": [
      "0.877\n"
     ]
    }
   ],
   "source": [
    "strategies = Strategies()\n",
    "voting_scheme = VotingScheme.BORDA\n",
    "nr_repetitions = 1000\n",
    "num_voters = 4\n",
    "\n",
    "strategy_counter = 0\n",
    "for i in range(nr_repetitions):\n",
    "    situation = Situation(num_voters=num_voters, num_candidates=4)\n",
    "    # Check if at least one voter has a good strategy\n",
    "    for voter_index in range(num_voters):\n",
    "        if strategies.is_any_strategy_good(situation, voter_index, voting_scheme):\n",
    "            strategy_counter += 1\n",
    "            break\n",
    "        \n",
    "print(strategy_counter/nr_repetitions)"
   ]
  },
  {
   "cell_type": "markdown",
   "metadata": {},
   "source": [
    "Plurality cannot be affected by strategic voting because that would require a voter to vote for a candidate they prefer less than their favorite candidate."
   ]
  }
 ],
 "metadata": {
  "kernelspec": {
   "display_name": ".venv",
   "language": "python",
   "name": "python3"
  },
  "language_info": {
   "codemirror_mode": {
    "name": "ipython",
    "version": 3
   },
   "file_extension": ".py",
   "mimetype": "text/x-python",
   "name": "python",
   "nbconvert_exporter": "python",
   "pygments_lexer": "ipython3",
   "version": "3.10.7"
  }
 },
 "nbformat": 4,
 "nbformat_minor": 2
}
